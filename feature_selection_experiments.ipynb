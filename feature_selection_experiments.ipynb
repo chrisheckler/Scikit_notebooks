{
 "cells": [
  {
   "cell_type": "code",
   "execution_count": 1,
   "metadata": {
    "collapsed": false
   },
   "outputs": [
    {
     "data": {
      "text/plain": [
       "Index(['age', 'menopause', 'tumor-size', 'inv-nodes', 'node-caps', 'deg-malig',\n",
       "       'breast', 'breast-quad', 'irradiat', 'Class'],\n",
       "      dtype='object')"
      ]
     },
     "execution_count": 1,
     "metadata": {},
     "output_type": "execute_result"
    }
   ],
   "source": [
    "import pandas as pd\n",
    "import numpy as np\n",
    "from sklearn.model_selection import train_test_split\n",
    "from sklearn import preprocessing\n",
    "\n",
    "df = pd.read_csv('breast-cancer.csv')\n",
    "cols = df.columns\n",
    "# Remore missing values\n",
    "df2 = df[df['node-caps'] != '?']\n",
    "clean_data = df2[df2['breast-quad'] != '?']\n",
    "\n",
    "cols"
   ]
  },
  {
   "cell_type": "code",
   "execution_count": null,
   "metadata": {
    "collapsed": false
   },
   "outputs": [],
   "source": []
  },
  {
   "cell_type": "code",
   "execution_count": 5,
   "metadata": {
    "collapsed": false
   },
   "outputs": [],
   "source": [
    "\n",
    "\n",
    "# Taking each categorical column and Label encoding for ML processing\n",
    "age_le = preprocessing.LabelEncoder()\n",
    "age_le.fit(clean_data['age'])\n",
    "age_transform = age_le.transform(clean_data['age'])\n",
    "\n",
    "meno_le = preprocessing.LabelEncoder()\n",
    "meno_le.fit(clean_data['menopause'])\n",
    "meno_transform = meno_le.transform(clean_data['menopause'])\n",
    "\n",
    "tumor_le = preprocessing.LabelEncoder()\n",
    "tumor_le.fit(clean_data['tumor-size'])\n",
    "tumor_transform = tumor_le.transform(clean_data['tumor-size'])\n",
    "\n",
    "inv_le = preprocessing.LabelEncoder()\n",
    "inv_le.fit(clean_data['inv-nodes'])\n",
    "inv_transform = inv_le.transform(clean_data['inv-nodes'])\n",
    "\n",
    "node_le = preprocessing.LabelEncoder()\n",
    "node_le.fit(clean_data['node-caps'])\n",
    "node_transform = node_le.transform(clean_data['node-caps'])\n",
    "\n",
    "breast_le = preprocessing.LabelEncoder()\n",
    "breast_le.fit(clean_data['breast'])\n",
    "breast_transform = breast_le.transform(clean_data['breast'])\n",
    "\n",
    "breastq_le = preprocessing.LabelEncoder()\n",
    "breastq_le.fit(clean_data['breast-quad'])\n",
    "breastq_transform = breastq_le.transform(clean_data['breast-quad'])\n",
    "\n",
    "irradiat_le = preprocessing.LabelEncoder()\n",
    "irradiat_le.fit(clean_data['irradiat'])\n",
    "irradiat_transform = irradiat_le.transform(clean_data['irradiat'])\n",
    "\n",
    "# transformed categorical data sets combined with deg-malig to create final data set for ML\n",
    "ds_transform = pd.DataFrame(\n",
    "    {'age': age_transform,\n",
    "     'menopause': meno_transform,\n",
    "     'tumor-size': tumor_transform,\n",
    "     'inv-nodes': inv_transform,\n",
    "     'node-caps': node_transform,\n",
    "     'deg-malig': clean_data['deg-malig'],\n",
    "     'breast': breast_transform,\n",
    "     'breast-quad': breastq_transform,\n",
    "     'irradiat': irradiat_transform,\n",
    "     'Class': clean_data['Class'],\n",
    "    })\n",
    "\n",
    "# Move Class column to the end\n",
    "cols = list(ds_transform.columns.values)\n",
    "cols.pop(cols.index('Class'))\n",
    "ds_transform = ds_transform[cols+['Class']]\n",
    "\n",
    "# Seperate attributes from Class and create train/test split\n",
    "X = ds_transform.values[:, 0:9]\n",
    "y = ds_transform.values[:,9]\n",
    "\n",
    "X_train, X_test, y_train, y_test = train_test_split(X, y, test_size=0.33, random_state=5) \n"
   ]
  },
  {
   "cell_type": "code",
   "execution_count": null,
   "metadata": {
    "collapsed": true
   },
   "outputs": [],
   "source": []
  },
  {
   "cell_type": "code",
   "execution_count": 6,
   "metadata": {
    "collapsed": false
   },
   "outputs": [
    {
     "name": "stdout",
     "output_type": "stream",
     "text": [
      "Accuracy is  96.7567567568\n",
      "                      precision    recall  f1-score   support\n",
      "\n",
      "no-recurrence-events       0.78      0.92      0.84        64\n",
      "   recurrence-events       0.69      0.39      0.50        28\n",
      "\n",
      "         avg / total       0.75      0.76      0.74        92\n",
      "\n"
     ]
    }
   ],
   "source": [
    "from sklearn import ensemble\n",
    "import sklearn.pipeline\n",
    "from sklearn.feature_selection import SelectKBest, f_classif\n",
    "\n",
    "# Use Kbest and randomforest pipeline to classify\n",
    "select = sklearn.feature_selection.SelectKBest(f_classif,k='all')\n",
    "clf = sklearn.ensemble.RandomForestClassifier()\n",
    "\n",
    "steps = [('feature_selection', select),\n",
    "        ('random_forest', clf)]\n",
    "\n",
    "pipeline = sklearn.pipeline.Pipeline(steps)\n",
    "pipeline.fit(X_train, y_train)\n",
    "score = pipeline.score(X_train, y_train)\n",
    "\n",
    "print('Accuracy is ', score * 100)\n",
    "y_pred = pipeline.predict(X_test)\n",
    "report = sklearn.metrics.classification_report(y_test, y_pred)\n",
    "print(report)"
   ]
  },
  {
   "cell_type": "code",
   "execution_count": null,
   "metadata": {
    "collapsed": false
   },
   "outputs": [],
   "source": [
    "from sklearn.model_selection import GridSearchCV\n",
    "from sklearn.neighbors import KNeighborsClassifier\n",
    "\n",
    "# GridsearchCV with knn\n",
    "parameters = {'n_neighbors':[1,10],\n",
    "             'algorithm':['auto', 'ball_tree','kd_tree'],\n",
    "             }\n",
    "knn = KNeighborsClassifier()\n",
    "\n",
    "clf = GridSearchCV(knn, parameters, scoring='accuracy')\n",
    "clf.fit(X_train, y_train)\n",
    "clf.score(X_test, y_test)\n",
    "\n",
    "\n",
    "\n",
    "\n"
   ]
  },
  {
   "cell_type": "code",
   "execution_count": 7,
   "metadata": {
    "collapsed": false
   },
   "outputs": [
    {
     "name": "stdout",
     "output_type": "stream",
     "text": [
      "Accuracy is  95.1351351351\n",
      "                      precision    recall  f1-score   support\n",
      "\n",
      "no-recurrence-events       0.75      0.88      0.81        64\n",
      "   recurrence-events       0.53      0.32      0.40        28\n",
      "\n",
      "         avg / total       0.68      0.71      0.68        92\n",
      "\n"
     ]
    }
   ],
   "source": [
    "ohe =pd.get_dummies(clean_data, columns=['age', 'menopause', 'tumor-size', 'inv-nodes', 'node-caps', 'deg-malig',\n",
    "       'breast', 'breast-quad', 'irradiat']).head()\n",
    "cols = list(ohe.columns.values)\n",
    "cols.pop(cols.index('Class'))\n",
    "ohe = ohe[cols+['Class']]\n",
    "\n",
    "X = ohe.values[:, 0:9]\n",
    "y = ohe.values[:,9]\n",
    "\n",
    "# Use Kbest and randomforest pipeline to classify\n",
    "select = sklearn.feature_selection.SelectKBest(f_classif,k=7)\n",
    "clf = sklearn.ensemble.RandomForestClassifier()\n",
    "\n",
    "steps = [('feature_selection', select),\n",
    "        ('random_forest', clf)]\n",
    "\n",
    "pipeline = sklearn.pipeline.Pipeline(steps)\n",
    "pipeline.fit(X_train, y_train)\n",
    "score = pipeline.score(X_train, y_train)\n",
    "\n",
    "print('Accuracy is ', score * 100)\n",
    "y_pred = pipeline.predict(X_test)\n",
    "report = sklearn.metrics.classification_report(y_test, y_pred)\n",
    "print(report)"
   ]
  },
  {
   "cell_type": "code",
   "execution_count": null,
   "metadata": {
    "collapsed": true
   },
   "outputs": [],
   "source": []
  },
  {
   "cell_type": "code",
   "execution_count": null,
   "metadata": {
    "collapsed": true
   },
   "outputs": [],
   "source": []
  },
  {
   "cell_type": "code",
   "execution_count": null,
   "metadata": {
    "collapsed": true
   },
   "outputs": [],
   "source": []
  }
 ],
 "metadata": {
  "kernelspec": {
   "display_name": "Python 3",
   "language": "python",
   "name": "python3"
  },
  "language_info": {
   "codemirror_mode": {
    "name": "ipython",
    "version": 3
   },
   "file_extension": ".py",
   "mimetype": "text/x-python",
   "name": "python",
   "nbconvert_exporter": "python",
   "pygments_lexer": "ipython3",
   "version": "3.5.1"
  }
 },
 "nbformat": 4,
 "nbformat_minor": 0
}
