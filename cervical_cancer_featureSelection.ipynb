{
 "cells": [
  {
   "cell_type": "code",
   "execution_count": 103,
   "metadata": {
    "collapsed": false
   },
   "outputs": [
    {
     "data": {
      "text/plain": [
       "Index(['Age', 'Number of sexual partners', 'First sexual intercourse',\n",
       "       'Num of pregnancies', 'Smokes', 'Smokes (years)', 'Smokes (packs/year)',\n",
       "       'Hormonal Contraceptives', 'Hormonal Contraceptives (years)', 'IUD',\n",
       "       'IUD (years)', 'STDs', 'STDs (number)', 'STDs:condylomatosis',\n",
       "       'STDs:cervical condylomatosis', 'STDs:vaginal condylomatosis',\n",
       "       'STDs:vulvo-perineal condylomatosis', 'STDs:syphilis',\n",
       "       'STDs:pelvic inflammatory disease', 'STDs:genital herpes',\n",
       "       'STDs:molluscum contagiosum', 'STDs:AIDS', 'STDs:HIV',\n",
       "       'STDs:Hepatitis B', 'STDs:HPV', 'STDs: Number of diagnosis',\n",
       "       'STDs: Time since first diagnosis', 'STDs: Time since last diagnosis',\n",
       "       'Dx:Cancer', 'Dx:CIN', 'Dx:HPV', 'Dx', 'Hinselmann', 'Schiller',\n",
       "       'Citology', 'Biopsy'],\n",
       "      dtype='object')"
      ]
     },
     "execution_count": 103,
     "metadata": {},
     "output_type": "execute_result"
    }
   ],
   "source": [
    "import pandas as pd\n",
    "import numpy as np\n",
    "\n",
    "df = pd.read_csv('risk_factors_cervical_cancer.csv',na_values='?',na_filter=True)\n",
    "df.columns\n"
   ]
  },
  {
   "cell_type": "code",
   "execution_count": 104,
   "metadata": {
    "collapsed": false
   },
   "outputs": [
    {
     "data": {
      "text/plain": [
       "Index(['Dx:Cancer', 'Dx:CIN', 'Dx:HPV', 'Dx', 'Hinselmann', 'Schiller',\n",
       "       'Citology', 'Biopsy'],\n",
       "      dtype='object')"
      ]
     },
     "execution_count": 104,
     "metadata": {},
     "output_type": "execute_result"
    }
   ],
   "source": [
    "# Reduced dimensionality to 15 attributes\n",
    "from sklearn.decomposition import PCA\n",
    "pca = PCA(n_components=15, svd_solver='auto')\n",
    "pca.fit_transform(X)\n",
    "\n",
    "y.columns"
   ]
  },
  {
   "cell_type": "code",
   "execution_count": 113,
   "metadata": {
    "collapsed": false
   },
   "outputs": [],
   "source": [
    "from sklearn.model_selection import train_test_split\n",
    "# Removed NaN and  split attributes and labels\n",
    "df.dropna(how='any',inplace=True)\n",
    "X = df.iloc[:, 0:27]\n",
    "y = df.iloc[:,28:36]\n",
    "\n",
    "# Split into train and test\n",
    "X_train, X_test, y_train, y_test = train_test_split(X, y, test_size=0.33, random_state=2)\n"
   ]
  },
  {
   "cell_type": "code",
   "execution_count": 114,
   "metadata": {
    "collapsed": false
   },
   "outputs": [
    {
     "name": "stdout",
     "output_type": "stream",
     "text": [
      "Coefficients: \n",
      " [[  0.00000000e+00   0.00000000e+00   0.00000000e+00   0.00000000e+00\n",
      "    0.00000000e+00   0.00000000e+00   0.00000000e+00   0.00000000e+00\n",
      "    0.00000000e+00   0.00000000e+00   0.00000000e+00   0.00000000e+00\n",
      "    0.00000000e+00   0.00000000e+00   0.00000000e+00   0.00000000e+00\n",
      "    0.00000000e+00   0.00000000e+00   0.00000000e+00   0.00000000e+00\n",
      "    0.00000000e+00   0.00000000e+00   0.00000000e+00   0.00000000e+00\n",
      "    0.00000000e+00   0.00000000e+00   0.00000000e+00]\n",
      " [  0.00000000e+00   0.00000000e+00   0.00000000e+00   0.00000000e+00\n",
      "    0.00000000e+00   0.00000000e+00   0.00000000e+00   0.00000000e+00\n",
      "    0.00000000e+00   0.00000000e+00   0.00000000e+00   0.00000000e+00\n",
      "    0.00000000e+00   0.00000000e+00   0.00000000e+00   0.00000000e+00\n",
      "    0.00000000e+00   0.00000000e+00   0.00000000e+00   0.00000000e+00\n",
      "    0.00000000e+00   0.00000000e+00   0.00000000e+00   0.00000000e+00\n",
      "    0.00000000e+00   0.00000000e+00   0.00000000e+00]\n",
      " [  0.00000000e+00   0.00000000e+00   0.00000000e+00   0.00000000e+00\n",
      "    0.00000000e+00   0.00000000e+00   0.00000000e+00   0.00000000e+00\n",
      "    0.00000000e+00   0.00000000e+00   0.00000000e+00   0.00000000e+00\n",
      "    0.00000000e+00   0.00000000e+00   0.00000000e+00   0.00000000e+00\n",
      "    0.00000000e+00   0.00000000e+00   0.00000000e+00   0.00000000e+00\n",
      "    0.00000000e+00   0.00000000e+00   0.00000000e+00   0.00000000e+00\n",
      "    0.00000000e+00   0.00000000e+00   0.00000000e+00]\n",
      " [  0.00000000e+00   0.00000000e+00   0.00000000e+00   0.00000000e+00\n",
      "    0.00000000e+00   0.00000000e+00   0.00000000e+00   0.00000000e+00\n",
      "    0.00000000e+00   0.00000000e+00   0.00000000e+00   0.00000000e+00\n",
      "    0.00000000e+00   0.00000000e+00   0.00000000e+00   0.00000000e+00\n",
      "    0.00000000e+00   0.00000000e+00   0.00000000e+00   0.00000000e+00\n",
      "    0.00000000e+00   0.00000000e+00   0.00000000e+00   0.00000000e+00\n",
      "    0.00000000e+00   0.00000000e+00   0.00000000e+00]\n",
      " [  5.07647118e-03  -6.75073993e-02  -1.78057638e-02  -5.05045310e-02\n",
      "    4.87575788e-01  -1.88151041e-02  -4.33437687e-02   1.77409476e-01\n",
      "   -3.86616989e-02   4.17951654e-01  -3.63952179e-02   4.44089210e-16\n",
      "   -2.75855989e-01  -5.69566950e-01   0.00000000e+00   1.88841231e-01\n",
      "    7.89015767e-01  -2.01983669e-01  -2.22154424e-01  -3.40434754e-01\n",
      "    9.23924982e-02   0.00000000e+00  -1.19656869e-02   0.00000000e+00\n",
      "    0.00000000e+00   1.04070701e-01  -4.85374664e-03]\n",
      " [ -2.22171869e-03  -6.17364598e-02   4.74344364e-03  -1.42500603e-02\n",
      "    5.00672834e-01   1.85499062e-02  -1.36681956e-01   2.05326524e-01\n",
      "   -3.90445199e-02   1.42751488e-01  -2.20601724e-02   5.05671893e-16\n",
      "   -4.60263274e-01   4.65351240e-03   0.00000000e+00   2.08304094e-02\n",
      "    4.53370258e-01  -1.99991729e-01  -2.33251570e-01  -4.43096265e-01\n",
      "    1.02110506e-02   0.00000000e+00  -7.29889395e-02   0.00000000e+00\n",
      "    0.00000000e+00   2.06814972e-01   1.90061140e-03]\n",
      " [ -2.19865956e-02   1.39861528e-02   6.40675244e-02   6.45534263e-02\n",
      "   -2.50133792e-01  -1.55338481e-02   5.84437578e-02  -3.10527014e-01\n",
      "    4.30207558e-02   4.24992405e-01  -2.59102120e-02  -7.77156117e-16\n",
      "    2.96410519e-01   1.58842050e-01  -2.22044605e-16  -5.91941464e-01\n",
      "   -3.01510387e-01   2.66324806e-01   6.06998403e-01   3.53036195e-02\n",
      "   -1.53978200e-01   0.00000000e+00   2.76371692e-01   0.00000000e+00\n",
      "    0.00000000e+00  -5.05082656e-01  -1.56649402e-02]\n",
      " [ -5.71413177e-03  -9.21009703e-02   1.85446841e-02  -1.48584480e-02\n",
      "    4.59750664e-01  -2.39249717e-02  -4.47174261e-02   2.49547211e-01\n",
      "   -4.39173442e-02   4.16062735e-01  -3.60190737e-02   2.77555756e-17\n",
      "   -1.07484587e-01  -5.17654137e-01  -1.38777878e-16  -1.26953161e-01\n",
      "    5.47846831e-01  -2.49734798e-01  -1.50207084e-01   3.90257276e-01\n",
      "    4.53363805e-02   0.00000000e+00  -4.63758944e-02   0.00000000e+00\n",
      "    0.00000000e+00  -1.44324549e-01  -6.47594245e-03]]\n",
      "Mean squared error: 0.17\n",
      "Variance score: -0.42\n"
     ]
    }
   ],
   "source": [
    "# Linear regression predict cancer column 28\n",
    "from sklearn import linear_model\n",
    "from sklearn.metrics import mean_squared_error, r2_score\n",
    "model = linear_model.LinearRegression()\n",
    "model.fit(X_train,y_train)\n",
    "y_pred = model.predict(X_test)\n",
    "\n",
    "print('Coefficients: \\n', model.coef_)\n",
    "print('Mean squared error: %.2f' \n",
    "      % mean_squared_error(y_test, y_pred))\n",
    "print('Variance score: %.2f' % r2_score(y_test, y_pred))\n"
   ]
  },
  {
   "cell_type": "code",
   "execution_count": null,
   "metadata": {
    "collapsed": true
   },
   "outputs": [],
   "source": []
  }
 ],
 "metadata": {
  "kernelspec": {
   "display_name": "Python 3",
   "language": "python",
   "name": "python3"
  },
  "language_info": {
   "codemirror_mode": {
    "name": "ipython",
    "version": 3
   },
   "file_extension": ".py",
   "mimetype": "text/x-python",
   "name": "python",
   "nbconvert_exporter": "python",
   "pygments_lexer": "ipython3",
   "version": "3.5.1"
  }
 },
 "nbformat": 4,
 "nbformat_minor": 0
}
